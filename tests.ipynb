{
 "cells": [
  {
   "cell_type": "code",
   "execution_count": 4,
   "metadata": {},
   "outputs": [],
   "source": [
    "from D_fetcher import *\n",
    "from call import *\n",
    "cvm_codes = [23396] # Replace with actual CVM codes\n",
    "models_to_test = [\n",
    "        #('openai/gpt-4o', {}),\n",
    "        #('mistralai/mistral-7b-instruct', {}),\n",
    "        ('anthropic/claude-3.5-sonnet:beta', {}),\n",
    "        #('cognitivecomputations/dolphin-mixtral-8x22b', {})\n",
    "        #('qwen/qwen-2-72b-instruct', {})\n",
    "    ]\n",
    "code = 23396"
   ]
  },
  {
   "cell_type": "code",
   "execution_count": 5,
   "metadata": {},
   "outputs": [
    {
     "name": "stdout",
     "output_type": "stream",
     "text": [
      "Query executed successfully.\n",
      "Query executed successfully.\n",
      "Query executed successfully.\n",
      "\n",
      "Testing model: anthropic/claude-3.5-sonnet:beta\n",
      "Query executed successfully.\n",
      "Query executed successfully.\n",
      "Query executed successfully.\n",
      "Query executed successfully.\n",
      "Query executed successfully.\n",
      "Query executed successfully.\n"
     ]
    }
   ],
   "source": [
    "df = run_predictions(cvm_codes, models_to_test)"
   ]
  },
  {
   "cell_type": "code",
   "execution_count": 6,
   "metadata": {},
   "outputs": [
    {
     "data": {
      "text/html": [
       "<div>\n",
       "<style scoped>\n",
       "    .dataframe tbody tr th:only-of-type {\n",
       "        vertical-align: middle;\n",
       "    }\n",
       "\n",
       "    .dataframe tbody tr th {\n",
       "        vertical-align: top;\n",
       "    }\n",
       "\n",
       "    .dataframe thead th {\n",
       "        text-align: right;\n",
       "    }\n",
       "</style>\n",
       "<table border=\"1\" class=\"dataframe\">\n",
       "  <thead>\n",
       "    <tr style=\"text-align: right;\">\n",
       "      <th></th>\n",
       "      <th>Company</th>\n",
       "      <th>Model</th>\n",
       "      <th>TREND ANALYSIS</th>\n",
       "      <th>RATIO ANALYSIS</th>\n",
       "      <th>RATIONALE</th>\n",
       "      <th>DIRECTION</th>\n",
       "      <th>MAGNITUDE</th>\n",
       "      <th>CONFIDENCE LEVEL</th>\n",
       "      <th>LOG PROBABILITY</th>\n",
       "      <th>ACTUAL DIRECTION</th>\n",
       "      <th>CD_CVM</th>\n",
       "      <th>TARGET PERIOD</th>\n",
       "    </tr>\n",
       "  </thead>\n",
       "  <tbody>\n",
       "    <tr>\n",
       "      <th>0</th>\n",
       "      <td>AEGEA SANEAMENTO E PARTICIPAÇÕES S.A.</td>\n",
       "      <td>anthropic/claude-3.5-sonnet:beta</td>\n",
       "      <td>Revenue has shown steady growth from $29.32B i...</td>\n",
       "      <td>1. Profit Margin: 11.24% (2017), 10.22% (2016)...</td>\n",
       "      <td>The consistent revenue growth and stable profi...</td>\n",
       "      <td>1</td>\n",
       "      <td>moderate</td>\n",
       "      <td>0.75</td>\n",
       "      <td>0.0</td>\n",
       "      <td>1</td>\n",
       "      <td>23396</td>\n",
       "      <td>2018-12-31</td>\n",
       "    </tr>\n",
       "    <tr>\n",
       "      <th>1</th>\n",
       "      <td>AEGEA SANEAMENTO E PARTICIPAÇÕES S.A.</td>\n",
       "      <td>anthropic/claude-3.5-sonnet:beta</td>\n",
       "      <td>Revenue has shown steady growth over the past ...</td>\n",
       "      <td>1. Profit Margin: (Net Income / Revenue)    20...</td>\n",
       "      <td>Based on the positive trends in revenue growth...</td>\n",
       "      <td>1</td>\n",
       "      <td>moderate</td>\n",
       "      <td>0.80</td>\n",
       "      <td>0.0</td>\n",
       "      <td>1</td>\n",
       "      <td>23396</td>\n",
       "      <td>2019-12-31</td>\n",
       "    </tr>\n",
       "    <tr>\n",
       "      <th>2</th>\n",
       "      <td>AEGEA SANEAMENTO E PARTICIPAÇÕES S.A.</td>\n",
       "      <td>anthropic/claude-3.5-sonnet:beta</td>\n",
       "      <td>Revenue has shown steady growth from 2017 to 2...</td>\n",
       "      <td>1. Profit Margin (Net Income / Revenue):    20...</td>\n",
       "      <td>The consistent revenue growth, improving opera...</td>\n",
       "      <td>1</td>\n",
       "      <td>moderate</td>\n",
       "      <td>0.75</td>\n",
       "      <td>0.0</td>\n",
       "      <td>1</td>\n",
       "      <td>23396</td>\n",
       "      <td>2020-12-31</td>\n",
       "    </tr>\n",
       "    <tr>\n",
       "      <th>3</th>\n",
       "      <td>AEGEA SANEAMENTO E PARTICIPAÇÕES S.A.</td>\n",
       "      <td>anthropic/claude-3.5-sonnet:beta</td>\n",
       "      <td>Revenue shows steady growth from 2018 to 2020,...</td>\n",
       "      <td>1. Profit Margin (Net Income / Revenue):    20...</td>\n",
       "      <td>The consistent revenue growth, improving profi...</td>\n",
       "      <td>1</td>\n",
       "      <td>moderate</td>\n",
       "      <td>0.80</td>\n",
       "      <td>0.0</td>\n",
       "      <td>1</td>\n",
       "      <td>23396</td>\n",
       "      <td>2021-12-31</td>\n",
       "    </tr>\n",
       "    <tr>\n",
       "      <th>4</th>\n",
       "      <td>AEGEA SANEAMENTO E PARTICIPAÇÕES S.A.</td>\n",
       "      <td>anthropic/claude-3.5-sonnet:beta</td>\n",
       "      <td>Revenue shows steady growth from 2019 to 2021,...</td>\n",
       "      <td>1. Profit Margin (Net Income/Revenue): Improve...</td>\n",
       "      <td>The consistent revenue growth, improving profi...</td>\n",
       "      <td>1</td>\n",
       "      <td>moderate</td>\n",
       "      <td>0.75</td>\n",
       "      <td>0.0</td>\n",
       "      <td>-1</td>\n",
       "      <td>23396</td>\n",
       "      <td>2022-12-31</td>\n",
       "    </tr>\n",
       "    <tr>\n",
       "      <th>5</th>\n",
       "      <td>AEGEA SANEAMENTO E PARTICIPAÇÕES S.A.</td>\n",
       "      <td>anthropic/claude-3.5-sonnet:beta</td>\n",
       "      <td>Assuming steady growth over the past three yea...</td>\n",
       "      <td>Without specific figures, we'll assume industr...</td>\n",
       "      <td>Based on the assumed positive revenue trend an...</td>\n",
       "      <td>1</td>\n",
       "      <td>moderate</td>\n",
       "      <td>0.70</td>\n",
       "      <td>0.0</td>\n",
       "      <td>1</td>\n",
       "      <td>23396</td>\n",
       "      <td>2023-12-31</td>\n",
       "    </tr>\n",
       "  </tbody>\n",
       "</table>\n",
       "</div>"
      ],
      "text/plain": [
       "                                 Company                             Model  \\\n",
       "0  AEGEA SANEAMENTO E PARTICIPAÇÕES S.A.  anthropic/claude-3.5-sonnet:beta   \n",
       "1  AEGEA SANEAMENTO E PARTICIPAÇÕES S.A.  anthropic/claude-3.5-sonnet:beta   \n",
       "2  AEGEA SANEAMENTO E PARTICIPAÇÕES S.A.  anthropic/claude-3.5-sonnet:beta   \n",
       "3  AEGEA SANEAMENTO E PARTICIPAÇÕES S.A.  anthropic/claude-3.5-sonnet:beta   \n",
       "4  AEGEA SANEAMENTO E PARTICIPAÇÕES S.A.  anthropic/claude-3.5-sonnet:beta   \n",
       "5  AEGEA SANEAMENTO E PARTICIPAÇÕES S.A.  anthropic/claude-3.5-sonnet:beta   \n",
       "\n",
       "                                      TREND ANALYSIS  \\\n",
       "0  Revenue has shown steady growth from $29.32B i...   \n",
       "1  Revenue has shown steady growth over the past ...   \n",
       "2  Revenue has shown steady growth from 2017 to 2...   \n",
       "3  Revenue shows steady growth from 2018 to 2020,...   \n",
       "4  Revenue shows steady growth from 2019 to 2021,...   \n",
       "5  Assuming steady growth over the past three yea...   \n",
       "\n",
       "                                      RATIO ANALYSIS  \\\n",
       "0  1. Profit Margin: 11.24% (2017), 10.22% (2016)...   \n",
       "1  1. Profit Margin: (Net Income / Revenue)    20...   \n",
       "2  1. Profit Margin (Net Income / Revenue):    20...   \n",
       "3  1. Profit Margin (Net Income / Revenue):    20...   \n",
       "4  1. Profit Margin (Net Income/Revenue): Improve...   \n",
       "5  Without specific figures, we'll assume industr...   \n",
       "\n",
       "                                           RATIONALE  DIRECTION MAGNITUDE  \\\n",
       "0  The consistent revenue growth and stable profi...          1  moderate   \n",
       "1  Based on the positive trends in revenue growth...          1  moderate   \n",
       "2  The consistent revenue growth, improving opera...          1  moderate   \n",
       "3  The consistent revenue growth, improving profi...          1  moderate   \n",
       "4  The consistent revenue growth, improving profi...          1  moderate   \n",
       "5  Based on the assumed positive revenue trend an...          1  moderate   \n",
       "\n",
       "   CONFIDENCE LEVEL  LOG PROBABILITY  ACTUAL DIRECTION  CD_CVM TARGET PERIOD  \n",
       "0              0.75              0.0                 1   23396    2018-12-31  \n",
       "1              0.80              0.0                 1   23396    2019-12-31  \n",
       "2              0.75              0.0                 1   23396    2020-12-31  \n",
       "3              0.80              0.0                 1   23396    2021-12-31  \n",
       "4              0.75              0.0                -1   23396    2022-12-31  \n",
       "5              0.70              0.0                 1   23396    2023-12-31  "
      ]
     },
     "execution_count": 6,
     "metadata": {},
     "output_type": "execute_result"
    }
   ],
   "source": [
    "df\n"
   ]
  },
  {
   "cell_type": "code",
   "execution_count": 7,
   "metadata": {},
   "outputs": [
    {
     "data": {
      "text/html": [
       "<div>\n",
       "<style scoped>\n",
       "    .dataframe tbody tr th:only-of-type {\n",
       "        vertical-align: middle;\n",
       "    }\n",
       "\n",
       "    .dataframe tbody tr th {\n",
       "        vertical-align: top;\n",
       "    }\n",
       "\n",
       "    .dataframe thead th {\n",
       "        text-align: right;\n",
       "    }\n",
       "</style>\n",
       "<table border=\"1\" class=\"dataframe\">\n",
       "  <thead>\n",
       "    <tr style=\"text-align: right;\">\n",
       "      <th></th>\n",
       "      <th>CD_CVM</th>\n",
       "      <th>Model</th>\n",
       "      <th>Precision</th>\n",
       "      <th>F1 Score</th>\n",
       "      <th>Average Confidence Level</th>\n",
       "      <th>Mean Log Probability</th>\n",
       "    </tr>\n",
       "  </thead>\n",
       "  <tbody>\n",
       "    <tr>\n",
       "      <th>0</th>\n",
       "      <td>23396</td>\n",
       "      <td>anthropic/claude-3.5-sonnet:beta</td>\n",
       "      <td>0.69</td>\n",
       "      <td>0.76</td>\n",
       "      <td>0.76</td>\n",
       "      <td>0.0</td>\n",
       "    </tr>\n",
       "  </tbody>\n",
       "</table>\n",
       "</div>"
      ],
      "text/plain": [
       "   CD_CVM                             Model  Precision  F1 Score  \\\n",
       "0   23396  anthropic/claude-3.5-sonnet:beta       0.69      0.76   \n",
       "\n",
       "   Average Confidence Level  Mean Log Probability  \n",
       "0                      0.76                   0.0  "
      ]
     },
     "execution_count": 7,
     "metadata": {},
     "output_type": "execute_result"
    }
   ],
   "source": [
    "metrics=calculate_metrics(df)\n",
    "metrics"
   ]
  },
  {
   "cell_type": "code",
   "execution_count": null,
   "metadata": {
    "dotnet_interactive": {
     "language": "csharp"
    },
    "polyglot_notebook": {
     "kernelName": "csharp"
    }
   },
   "outputs": [],
   "source": []
  }
 ],
 "metadata": {
  "kernelspec": {
   "display_name": "cvm-db-poetry-kBi5Z0kA-py3.12",
   "language": "python",
   "name": "python3"
  },
  "language_info": {
   "codemirror_mode": {
    "name": "ipython",
    "version": 3
   },
   "file_extension": ".py",
   "mimetype": "text/x-python",
   "name": "python",
   "nbconvert_exporter": "python",
   "pygments_lexer": "ipython3",
   "version": "3.12.4"
  },
  "polyglot_notebook": {
   "kernelInfo": {
    "defaultKernelName": "csharp",
    "items": [
     {
      "aliases": [],
      "name": "csharp"
     }
    ]
   }
  }
 },
 "nbformat": 4,
 "nbformat_minor": 2
}

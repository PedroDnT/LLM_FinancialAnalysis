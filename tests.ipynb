{
 "cells": [
  {
   "cell_type": "code",
   "execution_count": 1,
   "metadata": {},
   "outputs": [],
   "source": [
    "from D_fetcher import *\n",
    "from call_pred import *\n",
    "cvm_codes = [23396] # Replace with actual CVM codes\n",
    "models_to_test = [\n",
    "        #('openai/gpt-4-turbo', {})\n",
    "        #('mistralai/mistral-7b-instruct', {}),\n",
    "        ('anthropic/claude-3.5-sonnet:beta', {})\n",
    "        #('cognitivecomputations/dolphin-mixtral-8x22b', {})\n",
    "        #('qwen/qwen-2-72b-instruct', {})\n",
    "    ]\n",
    "code = 23396"
   ]
  },
  {
   "cell_type": "code",
   "execution_count": 2,
   "metadata": {},
   "outputs": [
    {
     "name": "stdout",
     "output_type": "stream",
     "text": [
      "Query executed successfully.\n",
      "Query executed successfully.\n",
      "Query executed successfully.\n",
      "\n",
      "Testing model: anthropic/claude-3.5-sonnet:beta\n",
      "Time taken to calculate actual results: 0.0019359588623046875 seconds\n",
      "Query executed successfully.\n",
      "Time taken for prediction: 14.74663233757019 seconds\n",
      "Token usage: Prompt: 385, Completion: 543, Total: 928\n",
      "Time taken for prediction: 11.264116287231445 seconds\n",
      "Token usage: Prompt: 385, Completion: 612, Total: 997\n",
      "Time taken for prediction: 15.01058316230774 seconds\n",
      "Token usage: Prompt: 385, Completion: 642, Total: 1027\n",
      "Time taken for prediction: 11.192292213439941 seconds\n",
      "Token usage: Prompt: 385, Completion: 573, Total: 958\n",
      "Time taken for prediction: 15.086867094039917 seconds\n",
      "Token usage: Prompt: 385, Completion: 622, Total: 1007\n",
      "Time taken for prediction: 17.02175998687744 seconds\n",
      "Token usage: Prompt: 385, Completion: 713, Total: 1098\n"
     ]
    }
   ],
   "source": [
    "df = run_predictions(cvm_codes, models_to_test)"
   ]
  },
  {
   "cell_type": "code",
   "execution_count": 4,
   "metadata": {},
   "outputs": [
    {
     "data": {
      "text/html": [
       "<div>\n",
       "<style scoped>\n",
       "    .dataframe tbody tr th:only-of-type {\n",
       "        vertical-align: middle;\n",
       "    }\n",
       "\n",
       "    .dataframe tbody tr th {\n",
       "        vertical-align: top;\n",
       "    }\n",
       "\n",
       "    .dataframe thead th {\n",
       "        text-align: right;\n",
       "    }\n",
       "</style>\n",
       "<table border=\"1\" class=\"dataframe\">\n",
       "  <thead>\n",
       "    <tr style=\"text-align: right;\">\n",
       "      <th></th>\n",
       "      <th>Company</th>\n",
       "      <th>Model</th>\n",
       "      <th>TREND ANALYSIS</th>\n",
       "      <th>RATIO ANALYSIS</th>\n",
       "      <th>RATIONALE</th>\n",
       "      <th>DIRECTION</th>\n",
       "      <th>MAGNITUDE</th>\n",
       "      <th>CONFIDENCE LEVEL</th>\n",
       "      <th>LOG PROBABILITY</th>\n",
       "      <th>ACTUAL DIRECTION</th>\n",
       "      <th>CD_CVM</th>\n",
       "      <th>TARGET PERIOD</th>\n",
       "    </tr>\n",
       "  </thead>\n",
       "  <tbody>\n",
       "    <tr>\n",
       "      <th>0</th>\n",
       "      <td>AEGEA SANEAMENTO E PARTICIPAÇÕES S.A.</td>\n",
       "      <td>anthropic/claude-3.5-sonnet:beta</td>\n",
       "      <td>Revenue has shown consistent growth over the p...</td>\n",
       "      <td>1. Profit Margin: Improved from 4.1% in 2015 t...</td>\n",
       "      <td>The consistent revenue growth trend, coupled w...</td>\n",
       "      <td>1</td>\n",
       "      <td>moderate</td>\n",
       "      <td>0.85</td>\n",
       "      <td>0.0</td>\n",
       "      <td>1</td>\n",
       "      <td>23396</td>\n",
       "      <td>2018-12-31</td>\n",
       "    </tr>\n",
       "    <tr>\n",
       "      <th>1</th>\n",
       "      <td>AEGEA SANEAMENTO E PARTICIPAÇÕES S.A.</td>\n",
       "      <td>anthropic/claude-3.5-sonnet:beta</td>\n",
       "      <td>Revenue has shown consistent growth over the p...</td>\n",
       "      <td>1. Profit Margin: Net income/Revenue    2016: ...</td>\n",
       "      <td>The consistent revenue growth, improving profi...</td>\n",
       "      <td>1</td>\n",
       "      <td>moderate</td>\n",
       "      <td>0.85</td>\n",
       "      <td>0.0</td>\n",
       "      <td>1</td>\n",
       "      <td>23396</td>\n",
       "      <td>2019-12-31</td>\n",
       "    </tr>\n",
       "    <tr>\n",
       "      <th>2</th>\n",
       "      <td>AEGEA SANEAMENTO E PARTICIPAÇÕES S.A.</td>\n",
       "      <td>anthropic/claude-3.5-sonnet:beta</td>\n",
       "      <td>Revenue has shown consistent growth from 2017 ...</td>\n",
       "      <td>1. Profit Margin (Net Income / Revenue):    20...</td>\n",
       "      <td>Based on the trend and ratio analyses, the com...</td>\n",
       "      <td>1</td>\n",
       "      <td>moderate</td>\n",
       "      <td>0.75</td>\n",
       "      <td>0.0</td>\n",
       "      <td>1</td>\n",
       "      <td>23396</td>\n",
       "      <td>2020-12-31</td>\n",
       "    </tr>\n",
       "    <tr>\n",
       "      <th>3</th>\n",
       "      <td>AEGEA SANEAMENTO E PARTICIPAÇÕES S.A.</td>\n",
       "      <td>anthropic/claude-3.5-sonnet:beta</td>\n",
       "      <td>Revenue has shown consistent growth over the p...</td>\n",
       "      <td>1. Profit Margin: Net Income / Revenue    2018...</td>\n",
       "      <td>Based on the trend and ratio analyses, Microso...</td>\n",
       "      <td>1</td>\n",
       "      <td>moderate</td>\n",
       "      <td>0.85</td>\n",
       "      <td>0.0</td>\n",
       "      <td>1</td>\n",
       "      <td>23396</td>\n",
       "      <td>2021-12-31</td>\n",
       "    </tr>\n",
       "    <tr>\n",
       "      <th>4</th>\n",
       "      <td>AEGEA SANEAMENTO E PARTICIPAÇÕES S.A.</td>\n",
       "      <td>anthropic/claude-3.5-sonnet:beta</td>\n",
       "      <td>Revenue has shown consistent growth over the p...</td>\n",
       "      <td>1. Profit Margin: (Net Income / Revenue)    20...</td>\n",
       "      <td>Based on the trend and ratio analyses, the com...</td>\n",
       "      <td>1</td>\n",
       "      <td>moderate</td>\n",
       "      <td>0.85</td>\n",
       "      <td>0.0</td>\n",
       "      <td>-1</td>\n",
       "      <td>23396</td>\n",
       "      <td>2022-12-31</td>\n",
       "    </tr>\n",
       "    <tr>\n",
       "      <th>5</th>\n",
       "      <td>AEGEA SANEAMENTO E PARTICIPAÇÕES S.A.</td>\n",
       "      <td>anthropic/claude-3.5-sonnet:beta</td>\n",
       "      <td>Revenue has shown consistent growth over the p...</td>\n",
       "      <td>1. Return on Assets (ROA) = Net Income / Total...</td>\n",
       "      <td>Based on the trend and ratio analyses, I predi...</td>\n",
       "      <td>1</td>\n",
       "      <td>moderate</td>\n",
       "      <td>0.75</td>\n",
       "      <td>0.0</td>\n",
       "      <td>1</td>\n",
       "      <td>23396</td>\n",
       "      <td>2023-12-31</td>\n",
       "    </tr>\n",
       "  </tbody>\n",
       "</table>\n",
       "</div>"
      ],
      "text/plain": [
       "                                 Company                             Model  \\\n",
       "0  AEGEA SANEAMENTO E PARTICIPAÇÕES S.A.  anthropic/claude-3.5-sonnet:beta   \n",
       "1  AEGEA SANEAMENTO E PARTICIPAÇÕES S.A.  anthropic/claude-3.5-sonnet:beta   \n",
       "2  AEGEA SANEAMENTO E PARTICIPAÇÕES S.A.  anthropic/claude-3.5-sonnet:beta   \n",
       "3  AEGEA SANEAMENTO E PARTICIPAÇÕES S.A.  anthropic/claude-3.5-sonnet:beta   \n",
       "4  AEGEA SANEAMENTO E PARTICIPAÇÕES S.A.  anthropic/claude-3.5-sonnet:beta   \n",
       "5  AEGEA SANEAMENTO E PARTICIPAÇÕES S.A.  anthropic/claude-3.5-sonnet:beta   \n",
       "\n",
       "                                      TREND ANALYSIS  \\\n",
       "0  Revenue has shown consistent growth over the p...   \n",
       "1  Revenue has shown consistent growth over the p...   \n",
       "2  Revenue has shown consistent growth from 2017 ...   \n",
       "3  Revenue has shown consistent growth over the p...   \n",
       "4  Revenue has shown consistent growth over the p...   \n",
       "5  Revenue has shown consistent growth over the p...   \n",
       "\n",
       "                                      RATIO ANALYSIS  \\\n",
       "0  1. Profit Margin: Improved from 4.1% in 2015 t...   \n",
       "1  1. Profit Margin: Net income/Revenue    2016: ...   \n",
       "2  1. Profit Margin (Net Income / Revenue):    20...   \n",
       "3  1. Profit Margin: Net Income / Revenue    2018...   \n",
       "4  1. Profit Margin: (Net Income / Revenue)    20...   \n",
       "5  1. Return on Assets (ROA) = Net Income / Total...   \n",
       "\n",
       "                                           RATIONALE  DIRECTION MAGNITUDE  \\\n",
       "0  The consistent revenue growth trend, coupled w...          1  moderate   \n",
       "1  The consistent revenue growth, improving profi...          1  moderate   \n",
       "2  Based on the trend and ratio analyses, the com...          1  moderate   \n",
       "3  Based on the trend and ratio analyses, Microso...          1  moderate   \n",
       "4  Based on the trend and ratio analyses, the com...          1  moderate   \n",
       "5  Based on the trend and ratio analyses, I predi...          1  moderate   \n",
       "\n",
       "   CONFIDENCE LEVEL  LOG PROBABILITY  ACTUAL DIRECTION  CD_CVM TARGET PERIOD  \n",
       "0              0.85              0.0                 1   23396    2018-12-31  \n",
       "1              0.85              0.0                 1   23396    2019-12-31  \n",
       "2              0.75              0.0                 1   23396    2020-12-31  \n",
       "3              0.85              0.0                 1   23396    2021-12-31  \n",
       "4              0.85              0.0                -1   23396    2022-12-31  \n",
       "5              0.75              0.0                 1   23396    2023-12-31  "
      ]
     },
     "execution_count": 4,
     "metadata": {},
     "output_type": "execute_result"
    }
   ],
   "source": [
    "df"
   ]
  },
  {
   "cell_type": "code",
   "execution_count": 5,
   "metadata": {},
   "outputs": [],
   "source": [
    "def display_analysis_for_period(df, target_period):\n",
    "    \"\"\"\n",
    "    Display the TREND ANALYSIS, RATIO ANALYSIS, and RATIONALE for a given target period.\n",
    "    \n",
    "    Args:\n",
    "    df (pd.DataFrame): DataFrame containing the analysis data.\n",
    "    target_period (str): The target period for which the analysis is to be displayed.\n",
    "    \n",
    "    Returns:\n",
    "    str: A formatted string containing the analysis for the specified period.\n",
    "    \"\"\"\n",
    "    # Filter the DataFrame for the given target period\n",
    "    period_data = df[df['TARGET PERIOD'] == target_period]\n",
    "    \n",
    "    if period_data.empty:\n",
    "        return \"No data available for the specified period.\"\n",
    "    \n",
    "    # Extract relevant columns\n",
    "    trend_analysis = period_data['TREND ANALYSIS'].iloc[0]\n",
    "    ratio_analysis = period_data['RATIO ANALYSIS'].iloc[0]\n",
    "    rationale = period_data['RATIONALE'].iloc[0]\n",
    "    \n",
    "    # Format the output\n",
    "    output = f\"Analysis for {target_period}:\\n\"\n",
    "    output += f\"Trend Analysis: {trend_analysis}\\n\"\n",
    "    output += f\"Ratio Analysis: {ratio_analysis}\\n\"\n",
    "    output += f\"Rationale: {rationale}\\n\"\n",
    "    \n",
    "    return output\n"
   ]
  },
  {
   "cell_type": "code",
   "execution_count": 6,
   "metadata": {},
   "outputs": [
    {
     "name": "stdout",
     "output_type": "stream",
     "text": [
      "Analysis for 2020-12-31:\n",
      "Trend Analysis: Revenue has shown consistent growth from 2017 to 2019, increasing from $229,234 million to $260,174 million, indicating a positive trend in the company's top-line performance. Operating income has also improved, rising from $58,015 million in 2017 to $69,920 million in 2019, suggesting enhanced operational efficiency. Net income has fluctuated but overall increased from $15,934 million in 2017 to $39,240 million in 2019, demonstrating improved profitability.\n",
      "Ratio Analysis: 1. Profit Margin (Net Income / Revenue):    2017: 6.95%, 2018: 22.32%, 2019: 15.08%    The profit margin has improved overall, despite a decrease in 2019 from 2018's peak.  2. Return on Assets (Net Income / Total Assets):    2017: 6.41%, 2018: 15.19%, 2019: 11.91%    ROA has improved from 2017 but decreased from 2018, indicating fluctuating efficiency in asset utilization.  3. Current Ratio (Current Assets / Current Liabilities):    2017: 1.53, 2018: 1.54, 2019: 1.54    The current ratio has remained stable, suggesting consistent short-term liquidity.  4. Debt-to-Equity Ratio (Total Liabilities / Total Equity):    2017: 2.81, 2018: 3.11, 2019: 2.84    The debt-to-equity ratio has remained relatively stable, indicating a consistent capital structure.\n",
      "Rationale: Based on the trend and ratio analyses, the company shows overall positive performance with growing revenue and improved profitability. While there was a slight decline in profit margin and ROA from 2018 to 2019, the overall trend remains positive. The stable current ratio and debt-to-equity ratio suggest financial stability. Given the consistent revenue growth and the company's ability to maintain profitability, it's reasonable to expect continued growth in earnings for 2020, albeit potentially at a more moderate pace than the significant jump seen in 2018.\n",
      "\n",
      "Direction: increase\n",
      "Magnitude: moderate\n",
      "Confidence: 0.75\n",
      "\n",
      "The prediction of a moderate increase in earnings for 2020-12-31 is based on the consistent revenue growth trend, improved operational efficiency, and overall positive financial ratios. The confidence level of 0.75 reflects the strong historical performance balanced against potential market uncertainties and the slight decline in some metrics from 2018 to 2019.\n",
      "\n"
     ]
    }
   ],
   "source": [
    "print(display_analysis_for_period(df, '2020-12-31'))"
   ]
  },
  {
   "cell_type": "code",
   "execution_count": null,
   "metadata": {},
   "outputs": [],
   "source": [
    "input\n",
    "$3\n",
    "Output\n",
    "$15"
   ]
  },
  {
   "cell_type": "code",
   "execution_count": 7,
   "metadata": {},
   "outputs": [
    {
     "data": {
      "text/html": [
       "<div>\n",
       "<style scoped>\n",
       "    .dataframe tbody tr th:only-of-type {\n",
       "        vertical-align: middle;\n",
       "    }\n",
       "\n",
       "    .dataframe tbody tr th {\n",
       "        vertical-align: top;\n",
       "    }\n",
       "\n",
       "    .dataframe thead th {\n",
       "        text-align: right;\n",
       "    }\n",
       "</style>\n",
       "<table border=\"1\" class=\"dataframe\">\n",
       "  <thead>\n",
       "    <tr style=\"text-align: right;\">\n",
       "      <th></th>\n",
       "      <th>CD_CVM</th>\n",
       "      <th>Model</th>\n",
       "      <th>Precision</th>\n",
       "      <th>F1 Score</th>\n",
       "      <th>Average Confidence Level</th>\n",
       "      <th>Mean Log Probability</th>\n",
       "    </tr>\n",
       "  </thead>\n",
       "  <tbody>\n",
       "    <tr>\n",
       "      <th>0</th>\n",
       "      <td>23396</td>\n",
       "      <td>anthropic/claude-3.5-sonnet:beta</td>\n",
       "      <td>0.69</td>\n",
       "      <td>0.76</td>\n",
       "      <td>0.82</td>\n",
       "      <td>0.0</td>\n",
       "    </tr>\n",
       "  </tbody>\n",
       "</table>\n",
       "</div>"
      ],
      "text/plain": [
       "   CD_CVM                             Model  Precision  F1 Score  \\\n",
       "0   23396  anthropic/claude-3.5-sonnet:beta       0.69      0.76   \n",
       "\n",
       "   Average Confidence Level  Mean Log Probability  \n",
       "0                      0.82                   0.0  "
      ]
     },
     "execution_count": 7,
     "metadata": {},
     "output_type": "execute_result"
    }
   ],
   "source": [
    "metrics=calculate_metrics(df)\n",
    "metrics"
   ]
  },
  {
   "cell_type": "code",
   "execution_count": 11,
   "metadata": {
    "dotnet_interactive": {
     "language": "csharp"
    },
    "polyglot_notebook": {
     "kernelName": "csharp"
    }
   },
   "outputs": [
    {
     "name": "stdout",
     "output_type": "stream",
     "text": [
      "Query executed successfully.\n",
      "Number of unique CD_CVM codes: 682\n"
     ]
    }
   ],
   "source": [
    "unique=get_distinct_cd_cvm()\n",
    "print(\"Number of unique CD_CVM codes:\", len(unique))\n"
   ]
  },
  {
   "cell_type": "code",
   "execution_count": null,
   "metadata": {},
   "outputs": [],
   "source": []
  }
 ],
 "metadata": {
  "kernelspec": {
   "display_name": "cvm-db-poetry-kBi5Z0kA-py3.12",
   "language": "python",
   "name": "python3"
  },
  "language_info": {
   "codemirror_mode": {
    "name": "ipython",
    "version": 3
   },
   "file_extension": ".py",
   "mimetype": "text/x-python",
   "name": "python",
   "nbconvert_exporter": "python",
   "pygments_lexer": "ipython3",
   "version": "3.12.4"
  },
  "polyglot_notebook": {
   "kernelInfo": {
    "defaultKernelName": "csharp",
    "items": [
     {
      "aliases": [],
      "name": "csharp"
     }
    ]
   }
  }
 },
 "nbformat": 4,
 "nbformat_minor": 2
}

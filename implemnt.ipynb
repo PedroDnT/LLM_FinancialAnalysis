{
 "cells": [
  {
   "cell_type": "code",
   "execution_count": 1,
   "metadata": {},
   "outputs": [],
   "source": [
    "from call import *\n",
    "from utils import *\n",
    "from upload_predictions import *\n",
    "import numpy as np"
   ]
  },
  {
   "cell_type": "code",
   "execution_count": 2,
   "metadata": {},
   "outputs": [
    {
     "name": "stdout",
     "output_type": "stream",
     "text": [
      "Starting get_financial_prediction...\n",
      "Skipping year 2014 due to insufficient historical data.\n",
      "Skipping year 2013 due to insufficient historical data.\n",
      "Skipping year 2012 due to insufficient historical data.\n",
      "Skipping year 2011 due to insufficient historical data.\n",
      "Skipping year 2010 due to insufficient historical data.\n",
      "Sending prompt for year 2020...\n",
      "Sending prompt for year 2021...\n",
      "Sending prompt for year 2022...\n",
      "Sending prompt for year 2023...\n"
     ]
    },
    {
     "name": "stderr",
     "output_type": "stream",
     "text": [
      "WARNING: All log messages before absl::InitializeLog() is called are written to STDERR\n",
      "I0000 00:00:1722628581.994715 4723293 config.cc:230] gRPC experiments enabled: call_status_override_on_cancellation, event_engine_dns, event_engine_listener, http2_stats_fix, monitoring_experiment, pick_first_new, trace_record_callops, work_serializer_clears_time_cache\n",
      "I0000 00:00:1722628582.070778 4723293 check_gcp_environment_no_op.cc:29] ALTS: Platforms other than Linux and Windows are not supported\n"
     ]
    },
    {
     "name": "stdout",
     "output_type": "stream",
     "text": [
      "Predictions received.\n"
     ]
    }
   ],
   "source": [
    "from call_gemini import *\n",
    "cia = [7617]\n",
    "financial_data = get_financial_data(cia)\n",
    "pred=get_financial_prediction(financial_data, 1)\n"
   ]
  },
  {
   "cell_type": "code",
   "execution_count": 3,
   "metadata": {},
   "outputs": [
    {
     "data": {
      "text/plain": [
       "{2022: \"Panel A ||| The company has shown strong revenue growth in recent years, with a significant jump in 2021. However, the company's profitability has been inconsistent. Gross profit margin has been relatively stable but operating expenses have been volatile, leading to fluctuating operating margins. The company's financial performance improved significantly in 2021, with a strong increase in both revenue and net income.\\nPanel B ||| The company's financial ratios show mixed signals. While liquidity ratios have improved over the past year, profitability ratios have also shown some volatility. The company's high debt levels are a concern, and its leverage ratios suggest that it may be taking on too much risk. The company's strong revenue growth in 2021 was accompanied by a slight increase in its gross margin. However, its operating margin declined significantly, likely due to the increase in operating expenses.\\nPanel C ||| The company's financial performance in 2021 was strong, but its high debt levels and volatile operating expenses are concerns.  The company's recent strong revenue growth is a positive sign, but it is unclear if this growth will continue. \\nDirection ||| 1\\nMagnitude ||| Moderate\\nConfidence ||| 0.60 \\n\",\n",
       " 2021: \"Panel A ||| The company's financial performance has shown a mixed trend in recent years. Revenue growth has been volatile, with a significant increase in 2020. Profitability has been relatively stable, with a substantial increase in 2020. The company has been managing its expenses effectively, with a notable decrease in operating expenses in 2020.\\nPanel B ||| The company's profitability ratios have improved in recent years, indicating improved efficiency and financial health. The company's liquidity ratios have also improved, suggesting a stronger ability to meet its short-term obligations.\\nPanel C |||  Based on the company's strong financial performance in 2020 and continued improvement in key financial ratios, it is expected that earnings will continue to increase in 2021. The company's ability to manage expenses and generate revenue growth is expected to drive further profitability. \\nDirection ||| 1\\nMagnitude ||| moderate\\nConfidence ||| 0.75 \\n\",\n",
       " 2020: \"Panel A ||| The company has shown a steady increase in revenue from 2016 to 2018, followed by a slight decrease in 2019.  The cost of goods sold has also shown a similar trend, indicating that the company's gross profit margin has been relatively stable. However, operating expenses have been increasing significantly, resulting in a decline in operating income.  The company's financial performance has been impacted by fluctuations in financial income and expenses. Overall, the company's profitability has been declining in recent years. \\nPanel B |||  The company's liquidity ratios have been declining, suggesting a potential strain on its ability to meet short-term obligations. The company's profitability ratios have also been declining, indicating a decrease in its earning power.  The company's solvency ratios have remained relatively stable, suggesting that it is still able to meet its long-term obligations. \\nPanel C ||| Based on the historical financial data and ratio analysis, the company's earnings are expected to continue declining in 2020. The declining revenue and increasing operating expenses are major concerns. The company's liquidity and profitability ratios have been deteriorating, which could further negatively impact its earnings. \\nDirection ||| -1\\nMagnitude ||| Moderate\\nConfidence ||| 0.80 \\n\",\n",
       " 2023: \"Panel A ||| The company has shown strong revenue growth in recent years, with revenue increasing by approximately 16% in 2021 and 4% in 2022. However, gross profit has remained relatively stable, suggesting that the company may be facing increasing cost pressures. Operating expenses have also increased significantly, driven by a substantial increase in sales and administrative expenses.  This, in turn, has impacted the company's profitability, as reflected in the slight decrease in net income in 2022 compared to 2021. \\nPanel B ||| The company's current ratio and quick ratio have been steadily increasing over the past few years, indicating a strong ability to meet its short-term obligations. However, the debt-to-equity ratio has also been increasing, suggesting that the company is relying more heavily on debt financing. The company's profitability ratios, such as gross profit margin and net profit margin, have remained relatively stable, indicating that the company is managing its profitability despite the increasing costs.\\nPanel C |||  The company's earnings are expected to be impacted by the ongoing cost pressures and increased debt financing. However, the strong revenue growth and improving liquidity position suggest that the company is well-positioned to manage these challenges. The company's investment in its core business, evidenced by the significant increase in investment in subsidiaries, indicates a commitment to long-term growth.\\n\\nDirection ||| 1\\nMagnitude ||| Moderate\\nConfidence ||| 0.75 \\n\"}"
      ]
     },
     "execution_count": 3,
     "metadata": {},
     "output_type": "execute_result"
    }
   ],
   "source": [
    "pred"
   ]
  },
  {
   "cell_type": "code",
   "execution_count": 4,
   "metadata": {},
   "outputs": [],
   "source": [
    "parsed = parse_financial_prediction(pred)"
   ]
  },
  {
   "cell_type": "code",
   "execution_count": 5,
   "metadata": {},
   "outputs": [
    {
     "data": {
      "text/html": [
       "<div>\n",
       "<style scoped>\n",
       "    .dataframe tbody tr th:only-of-type {\n",
       "        vertical-align: middle;\n",
       "    }\n",
       "\n",
       "    .dataframe tbody tr th {\n",
       "        vertical-align: top;\n",
       "    }\n",
       "\n",
       "    .dataframe thead th {\n",
       "        text-align: right;\n",
       "    }\n",
       "</style>\n",
       "<table border=\"1\" class=\"dataframe\">\n",
       "  <thead>\n",
       "    <tr style=\"text-align: right;\">\n",
       "      <th></th>\n",
       "      <th>Year</th>\n",
       "      <th>Panel A</th>\n",
       "      <th>Panel B</th>\n",
       "      <th>Panel C</th>\n",
       "      <th>Prediction Direction</th>\n",
       "      <th>Magnitude</th>\n",
       "      <th>Confidence</th>\n",
       "    </tr>\n",
       "  </thead>\n",
       "  <tbody>\n",
       "    <tr>\n",
       "      <th>0</th>\n",
       "      <td>2022</td>\n",
       "      <td>The company has shown strong revenue growth in...</td>\n",
       "      <td>The company's financial ratios show mixed sign...</td>\n",
       "      <td>The company's financial performance in 2021 wa...</td>\n",
       "      <td>1</td>\n",
       "      <td>Moderate</td>\n",
       "      <td>0.60</td>\n",
       "    </tr>\n",
       "    <tr>\n",
       "      <th>1</th>\n",
       "      <td>2021</td>\n",
       "      <td>The company's financial performance has shown ...</td>\n",
       "      <td>The company's profitability ratios have improv...</td>\n",
       "      <td>Based on the company's strong financial perfor...</td>\n",
       "      <td>1</td>\n",
       "      <td>moderate</td>\n",
       "      <td>0.75</td>\n",
       "    </tr>\n",
       "    <tr>\n",
       "      <th>2</th>\n",
       "      <td>2020</td>\n",
       "      <td>The company has shown a steady increase in rev...</td>\n",
       "      <td>The company's liquidity ratios have been decli...</td>\n",
       "      <td>Based on the historical financial data and rat...</td>\n",
       "      <td>-1</td>\n",
       "      <td>Moderate</td>\n",
       "      <td>0.80</td>\n",
       "    </tr>\n",
       "    <tr>\n",
       "      <th>3</th>\n",
       "      <td>2023</td>\n",
       "      <td>The company has shown strong revenue growth in...</td>\n",
       "      <td>The company's current ratio and quick ratio ha...</td>\n",
       "      <td>The company's earnings are expected to be impa...</td>\n",
       "      <td>1</td>\n",
       "      <td>Moderate</td>\n",
       "      <td>0.75</td>\n",
       "    </tr>\n",
       "  </tbody>\n",
       "</table>\n",
       "</div>"
      ],
      "text/plain": [
       "   Year                                            Panel A  \\\n",
       "0  2022  The company has shown strong revenue growth in...   \n",
       "1  2021  The company's financial performance has shown ...   \n",
       "2  2020  The company has shown a steady increase in rev...   \n",
       "3  2023  The company has shown strong revenue growth in...   \n",
       "\n",
       "                                             Panel B  \\\n",
       "0  The company's financial ratios show mixed sign...   \n",
       "1  The company's profitability ratios have improv...   \n",
       "2  The company's liquidity ratios have been decli...   \n",
       "3  The company's current ratio and quick ratio ha...   \n",
       "\n",
       "                                             Panel C Prediction Direction  \\\n",
       "0  The company's financial performance in 2021 wa...                    1   \n",
       "1  Based on the company's strong financial perfor...                    1   \n",
       "2  Based on the historical financial data and rat...                   -1   \n",
       "3  The company's earnings are expected to be impa...                    1   \n",
       "\n",
       "  Magnitude  Confidence  \n",
       "0  Moderate        0.60  \n",
       "1  moderate        0.75  \n",
       "2  Moderate        0.80  \n",
       "3  Moderate        0.75  "
      ]
     },
     "execution_count": 5,
     "metadata": {},
     "output_type": "execute_result"
    }
   ],
   "source": [
    "parsed"
   ]
  },
  {
   "cell_type": "code",
   "execution_count": 23,
   "metadata": {},
   "outputs": [
    {
     "data": {
      "text/html": [
       "<div>\n",
       "<style scoped>\n",
       "    .dataframe tbody tr th:only-of-type {\n",
       "        vertical-align: middle;\n",
       "    }\n",
       "\n",
       "    .dataframe tbody tr th {\n",
       "        vertical-align: top;\n",
       "    }\n",
       "\n",
       "    .dataframe thead th {\n",
       "        text-align: right;\n",
       "    }\n",
       "</style>\n",
       "<table border=\"1\" class=\"dataframe\">\n",
       "  <thead>\n",
       "    <tr style=\"text-align: right;\">\n",
       "      <th></th>\n",
       "      <th>Metric</th>\n",
       "      <th>Average</th>\n",
       "      <th>Standard Deviation</th>\n",
       "    </tr>\n",
       "  </thead>\n",
       "  <tbody>\n",
       "    <tr>\n",
       "      <th>0</th>\n",
       "      <td>F1 Score</td>\n",
       "      <td>0.466624</td>\n",
       "      <td>0.249127</td>\n",
       "    </tr>\n",
       "    <tr>\n",
       "      <th>1</th>\n",
       "      <td>Accuracy</td>\n",
       "      <td>0.485493</td>\n",
       "      <td>0.245059</td>\n",
       "    </tr>\n",
       "    <tr>\n",
       "      <th>2</th>\n",
       "      <td>Precision</td>\n",
       "      <td>0.482270</td>\n",
       "      <td>0.269943</td>\n",
       "    </tr>\n",
       "    <tr>\n",
       "      <th>3</th>\n",
       "      <td>Linear Probability</td>\n",
       "      <td>67.967152</td>\n",
       "      <td>5.250890</td>\n",
       "    </tr>\n",
       "  </tbody>\n",
       "</table>\n",
       "</div>"
      ],
      "text/plain": [
       "               Metric    Average  Standard Deviation\n",
       "0            F1 Score   0.466624            0.249127\n",
       "1            Accuracy   0.485493            0.245059\n",
       "2           Precision   0.482270            0.269943\n",
       "3  Linear Probability  67.967152            5.250890"
      ]
     },
     "execution_count": 23,
     "metadata": {},
     "output_type": "execute_result"
    }
   ],
   "source": [
    "agg=calculate_agg_metrics(metrics_df)\n",
    "agg"
   ]
  },
  {
   "cell_type": "code",
   "execution_count": null,
   "metadata": {},
   "outputs": [],
   "source": []
  }
 ],
 "metadata": {
  "kernelspec": {
   "display_name": ".venv",
   "language": "python",
   "name": "python3"
  },
  "language_info": {
   "codemirror_mode": {
    "name": "ipython",
    "version": 3
   },
   "file_extension": ".py",
   "mimetype": "text/x-python",
   "name": "python",
   "nbconvert_exporter": "python",
   "pygments_lexer": "ipython3",
   "version": "3.12.4"
  }
 },
 "nbformat": 4,
 "nbformat_minor": 2
}
